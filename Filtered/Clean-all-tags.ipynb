{
  "nbformat": 4,
  "nbformat_minor": 0,
  "metadata": {
    "colab": {
      "name": "Очистка данных от тегов.ipynb",
      "provenance": [],
      "collapsed_sections": []
    },
    "kernelspec": {
      "name": "python3",
      "display_name": "Python 3"
    },
    "language_info": {
      "name": "python"
    }
  },
  "cells": [
    {
      "cell_type": "markdown",
      "source": [
        "**Очистка данных от тегов**\n",
        "\n",
        "11.12.21 Георгий Брегман @DSMLAI"
      ],
      "metadata": {
        "id": "84z7Z6yyWAOW"
      }
    },
    {
      "cell_type": "code",
      "execution_count": 40,
      "metadata": {
        "colab": {
          "base_uri": "https://localhost:8080/"
        },
        "id": "NG4Ea3w6KZPt",
        "outputId": "dc8ddc1b-dca6-4ef7-9a14-f1bf2ae5145c"
      },
      "outputs": [
        {
          "output_type": "stream",
          "name": "stdout",
          "text": [
            "Requirement already satisfied: beautifulsoup4 in /usr/local/lib/python3.7/dist-packages (4.6.3)\n",
            "Requirement already satisfied: requests in /usr/local/lib/python3.7/dist-packages (2.23.0)\n",
            "Requirement already satisfied: certifi>=2017.4.17 in /usr/local/lib/python3.7/dist-packages (from requests) (2021.10.8)\n",
            "Requirement already satisfied: idna<3,>=2.5 in /usr/local/lib/python3.7/dist-packages (from requests) (2.10)\n",
            "Requirement already satisfied: urllib3!=1.25.0,!=1.25.1,<1.26,>=1.21.1 in /usr/local/lib/python3.7/dist-packages (from requests) (1.24.3)\n",
            "Requirement already satisfied: chardet<4,>=3.0.2 in /usr/local/lib/python3.7/dist-packages (from requests) (3.0.4)\n"
          ]
        }
      ],
      "source": [
        "!pip install beautifulsoup4 \n",
        "\n",
        "!pip install requests\n",
        "\n",
        "from bs4 import BeautifulSoup as bs\n",
        "import requests"
      ]
    },
    {
      "cell_type": "code",
      "source": [
        "from google.colab import drive # Для работы с Google Drive\n",
        "drive.mount('/content/drive')"
      ],
      "metadata": {
        "colab": {
          "base_uri": "https://localhost:8080/"
        },
        "id": "3si4KRFMODgT",
        "outputId": "e7584649-0aaf-4289-f997-516f24b9db95"
      },
      "execution_count": 53,
      "outputs": [
        {
          "output_type": "stream",
          "name": "stdout",
          "text": [
            "Drive already mounted at /content/drive; to attempt to forcibly remount, call drive.mount(\"/content/drive\", force_remount=True).\n"
          ]
        }
      ]
    },
    {
      "cell_type": "code",
      "source": [
        "# Кладем наш файл *.mbox вручную в Гугл-драйв или через меню файлы слева\n",
        "train_file = '/content/drive/MyDrive/train.mbox'"
      ],
      "metadata": {
        "id": "gnUQDaXLLVcj"
      },
      "execution_count": 56,
      "outputs": []
    },
    {
      "cell_type": "code",
      "source": [
        "\n",
        "html_report_part1 = open(train_file,'r').read()\n",
        "soup = BeautifulSoup(html_report_part1, \"html.parser\")\n"
      ],
      "metadata": {
        "id": "uDTUQTn2QyYr"
      },
      "execution_count": 57,
      "outputs": []
    },
    {
      "cell_type": "code",
      "source": [
        "cleantext= soup.get_text()"
      ],
      "metadata": {
        "id": "4OGIDds0SHLv"
      },
      "execution_count": 58,
      "outputs": []
    },
    {
      "cell_type": "code",
      "source": [
        "# Получившийся результат будет в папке content\n",
        "c = \"\"\"text_file = open(\"text.txt\", \"w+\");text_file.write(cleantext);text_file.close()\"\"\" \n",
        "\n",
        "exec(c)"
      ],
      "metadata": {
        "id": "hz19YMGdU0P-"
      },
      "execution_count": 59,
      "outputs": []
    }
  ]
}